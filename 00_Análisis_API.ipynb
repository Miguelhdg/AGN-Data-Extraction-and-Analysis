{
 "cells": [
  {
   "cell_type": "markdown",
   "id": "3175b2d7",
   "metadata": {},
   "source": [
    "# <span style=\"font-size: 1.5em;\">Análisis de la API de AGN</span> "
   ]
  },
  {
   "cell_type": "markdown",
   "id": "b19ec722",
   "metadata": {},
   "source": [
    "Con el objetivo de analizar los informes de auditorías disponibles en la página web de la Auditoría General de la Nación (AGN), es esencial comenzar por entender la estructura y funcionalidad de la API asociada a esta página. La AGN cuenta con una sección específica dedicada a las búsquedas de auditorías, la cual puede ser accedida a través del enlace: https://www.agn.gob.ar/auditorias/buscador. Se identifico este segmento del sitio web realiza peticiones a la siguiente dirección de API: https://webagnapi.agn.gob.ar/api.\n",
    "\n",
    "En las subsecuentes secciones, se desglosaran las diversas solicitudes y respuestas relacionadas con esta API. Analizando a profundidad las principales características y los datos que esta herramienta nos permite acceder."
   ]
  },
  {
   "cell_type": "markdown",
   "id": "d66f41cf",
   "metadata": {},
   "source": [
    "#### <span style=\"font-size: 1.5em;\">Librerías</span>"
   ]
  },
  {
   "cell_type": "code",
   "execution_count": null,
   "id": "3500e615",
   "metadata": {},
   "outputs": [],
   "source": [
    "import requests\n",
    "# Permite hacer solicitudes HTTP a servidores web o APIs de manera sencilla.\n",
    "import json\n",
    "# Facilita la codificación y decodificación de datos en formato JSON."
   ]
  },
  {
   "cell_type": "markdown",
   "id": "2d173f1b",
   "metadata": {},
   "source": [
    "#### <span style=\"font-size: 1.5em;\">Contenido de la API</span> "
   ]
  },
  {
   "cell_type": "code",
   "execution_count": null,
   "id": "83a1d467",
   "metadata": {},
   "outputs": [],
   "source": [
    "# Definimos la URL de la API que queremos analizar\n",
    "url = \"https://webagnapi.agn.gob.ar/api\"\n",
    "\n",
    "# Realizamos una solicitud GET a la API. Desactivamos la verificación SSL con verify=False (esto puede ser un riesgo de seguridad)\n",
    "response = requests.get(url, verify=False)\n",
    "\n",
    "# Verificamos si la respuesta tiene un código de estado 200, lo que indica una solicitud exitosa\n",
    "if response.status_code == 200:\n",
    "    # Convertimos la respuesta en formato JSON a un objeto Python\n",
    "    data = response.json()\n",
    "    \n",
    "    # Extraemos la información de los enlaces (links) de la respuesta\n",
    "    links = data.get('links', {})\n",
    "    \n",
    "    # Creamos una lista de URLs (hrefs) a partir de la información de los enlaces\n",
    "    hrefs = [link_info.get('href') for link_info in links.values()]\n",
    "    \n",
    "    # Imprimimos cada URL con un número de orden\n",
    "    for i, href in enumerate(hrefs, 1):\n",
    "        print(f\"{i}. {href}\")\n",
    "else:\n",
    "    # Si la respuesta no tiene un código de estado 200, imprimimos un mensaje de error con el código de estado recibido\n",
    "    print(f\"La solicitud falló con el código de estado {response.status_code}\")\n"
   ]
  },
  {
   "cell_type": "markdown",
   "id": "62f058a7",
   "metadata": {},
   "source": [
    "#### <span style=\"font-size: 1.5em;\">Exploracion de URLs</span> "
   ]
  },
  {
   "cell_type": "code",
   "execution_count": null,
   "id": "4f5bdcea",
   "metadata": {},
   "outputs": [],
   "source": [
    "# Definimos la URL de la API que queremos analizar. Ejemplo:\n",
    "url = \"https://webagnapi.agn.gob.ar/api/node/infografias\"\n",
    "\n",
    "# Realizamos una solicitud GET a la URL especificada.\n",
    "response = requests.get(url)\n",
    "\n",
    "# Verificamos si la respuesta tiene un código de estado 200, lo que indica una solicitud exitosa.\n",
    "if response.status_code == 200:\n",
    "    # Convertimos la respuesta en formato JSON a un objeto Python.\n",
    "    data = response.json()\n",
    "    \n",
    "    # Imprimimos el contenido de la respuesta en formato JSON con una indentación de 4 espacios y ordenando las claves.\n",
    "    print(json.dumps(data, indent=4, sort_keys=True))\n",
    "else:\n",
    "    # Si la respuesta no tiene un código de estado 200, imprimimos un mensaje de error con el código de estado recibido.\n",
    "    print(\"Error:\", response.status_code)"
   ]
  },
  {
   "cell_type": "markdown",
   "id": "d4e622d3",
   "metadata": {},
   "source": [
    "Al explorar las distintas URLs, se identifico que se está utilizando el formato JSON:API, que es una especificación para la construcción de APIs utilizando JSON. Está diseñado para minimizar tanto el número de solicitudes como la cantidad de datos transferidos entre clientes y servidores, por lo que se tiene que tener ciertas consideraciones:\n",
    "\n",
    "-\tLimitación en Solicitudes: Las APIs pueden tener un límite en la cantidad de peticiones permitidas en un tiempo específico. Si excedes este límite, recibirás errores en tus peticiones.\n",
    "\n",
    "-\tPaginación: A menudo, las APIs retornan resultados en páginas para no sobrecargar la respuesta. Es posible que tengas que gestionar múltiples solicitudes para obtener todos los datos.\n",
    "\n",
    "-\tProfundidad de los Recursos: Si bien JSON:API permite recursos anidados, pueden limitar la profundidad de la respuesta para evitar respuestas excesivamente grandes.\n",
    "\n",
    "-\tCampos Específicos: Aunque es posible solicitar campos concretos, no todas las APIs soportan esta funcionalidad. Es posible que termines recibiendo más información de la deseada.\n",
    "\n",
    "-\tErrores de Validación: Solicitudes mal formadas o campos inexistentes pueden resultar en errores.\n",
    "\n",
    "-\tActualización: Las APIs evolucionan, y lo que funcionó en un momento puede no funcionar después debido a cambios en la estructura o en los campos disponibles.\n"
   ]
  },
  {
   "cell_type": "markdown",
   "id": "455f3c0b",
   "metadata": {},
   "source": [
    "#### <span style=\"font-size: 1.5em;\">Selección de URLs para la Creación de la Base de Datos</span> "
   ]
  },
  {
   "cell_type": "markdown",
   "id": "7641dedb",
   "metadata": {},
   "source": [
    "De las 107 URLs que componen la API de la AGN, se realizó una selección crítica para centrarse en aquellas que proporcionan la información más relevante para nuestro análisis y posterior creación de la base de datos. A continuación, se detallan las 10 URLs seleccionadas:"
   ]
  },
  {
   "cell_type": "markdown",
   "id": "bd578354",
   "metadata": {},
   "source": [
    "50.\thttps://webagnapi.agn.gob.ar/api/node/informes\n",
    "\n",
    "51.\thttps://webagnapi.agn.gob.ar/api/node/infografias\n",
    "\n",
    "52.\thttps://webagnapi.agn.gob.ar/api/file/file\n",
    "\n",
    "53.\thttps://webagnapi.agn.gob.ar/api/taxonomy_term/jurisdiccion\n",
    "\n",
    "54.\thttps://webagnapi.agn.gob.ar/api/taxonomy_term/objeto_de_auditoria\n",
    "\n",
    "55.\thttps://webagnapi.agn.gob.ar/api/taxonomy_term/ods\n",
    "\n",
    "56.\thttps://webagnapi.agn.gob.ar/api/taxonomy_term/organismo_auditado\n",
    "\n",
    "57.\thttps://webagnapi.agn.gob.ar/api/taxonomy_term/sector_publico_nacional\n",
    "\n",
    "58.\thttps://webagnapi.agn.gob.ar/api/taxonomy_term/tags\n",
    "\n",
    "59.\thttps://webagnapi.agn.gob.ar/api/taxonomy_term/tipo_de_auditoria"
   ]
  },
  {
   "cell_type": "markdown",
   "id": "6c186ea6",
   "metadata": {},
   "source": [
    "#### <span style=\"font-size: 1.5em;\">Contenido y estructura</span> "
   ]
  },
  {
   "cell_type": "markdown",
   "id": "41edee66",
   "metadata": {},
   "source": [
    "Informes - La URL proporcionada ofrece detalles descriptivos de los informes, así como los datos empleados en los filtros del sitio web.\n",
    "\n",
    "50.\thttps://webagnapi.agn.gob.ar/api/node/informes\n",
    "\n",
    "Dentro de la estructura JSON de la URL, se distinguen dos componentes esenciales para cada informe: attributes y relationships. Estos componentes contienen información descriptiva y relacional de los informes, respectivamente.\n",
    "\n",
    "Componente \"attributes\": Contiene los atributos descriptivos asociados a un informe, brindando detalles específicos sobre el mismo.\n",
    "\n",
    "Componente \"relationships\": Representa las conexiones del informe con otras entidades o nodos en el sistema. Cada relación está definida por una clave única y ofrece información sobre la entidad relacionada.\n",
    "\n",
    "A continuación, se detalla la estructura de estos componentes:"
   ]
  },
  {
   "cell_type": "code",
   "execution_count": null,
   "id": "fa6a4f62",
   "metadata": {},
   "outputs": [],
   "source": [
    "\"data\": [\n",
    "    \"attributes\": {\n",
    "        \"titulo\":\n",
    "        \"drupal_internal__nid\":\n",
    "        \"cuerpo\":\n",
    "            \"value\": \"<p>\n",
    "        \"alias\":\n",
    "        \"ano\":\n",
    "        \"archivo_difusion\":\n",
    "        \"auditoria_coordinada\":\n",
    "        \"material_de_difusion\":\n",
    "        \"actuacion\": {\n",
    "            \"value\":\n",
    "        \"objetivo\":\n",
    "        \"periodo_auditado\": {\n",
    "            \"value\":\n",
    "            \"end_value\":\n",
    "        \"resolucion\":\n",
    "        \"titulo_difusion\":   \n",
    "            \n",
    "    \"relationships\": {\n",
    "        \"node_type\": {\n",
    "            \"data\": {\n",
    "                \"meta\": {\n",
    "                     \"drupal_internal__target_id\":\n",
    "        \"anexo\": {\n",
    "            \"meta\": {\n",
    "                    \"drupal_internal__target_id\":\n",
    "        \"ficha\": {\n",
    "            \"meta\": {\n",
    "                    \"drupal_internal__target_id\":\n",
    "        \"imagen\": { \n",
    "            \"meta\": {\n",
    "                    \"drupal_internal__target_id\":\n",
    "        \"infografia\": {\n",
    "            \"meta\": {\n",
    "                    \"drupal_internal__target_id\":\n",
    "        \"informe\": {\n",
    "            \"data\": {\n",
    "                \"meta\": {\n",
    "                    \"drupal_internal__target_id\":\n",
    "        \"informe_en_video\": {\n",
    "            \"meta\": {\n",
    "                    \"drupal_internal__target_id\":\n",
    "        \"informe_multimedia\": { \n",
    "            \"meta\": {\n",
    "                    \"drupal_internal__target_id\":\n",
    "        \"jurisdiccion\": {\n",
    "            \"meta\": {\n",
    "                    \"drupal_internal__target_id\":\n",
    "        \"objeto_de_auditoria\": {\n",
    "            \"meta\": {\n",
    "                    \"drupal_internal__target_id\":\n",
    "        \"ods\": {\n",
    "            \"meta\": {\n",
    "                    \"drupal_internal__target_id\":\n",
    "        \"organismo_auditado\": {\n",
    "            \"data\": [\n",
    "                \"meta\": {\n",
    "                    \"drupal_internal__target_id\":\n",
    "        \"palabras_claves\": {\n",
    "            \"meta\": {\n",
    "                    \"drupal_internal__target_id\":\n",
    "        \"resolucion_archivo\": {\n",
    "            \"data\": {\n",
    "                \"meta\": {\n",
    "                    \"drupal_internal__target_id\":\n",
    "        \"sector_publico_nacional\": {\n",
    "            \"meta\": {\n",
    "                    \"drupal_internal__target_id\":\n",
    "        \"tipo_de_auditoria\": {\n",
    "            \"meta\": {\n",
    "                    \"drupal_internal__target_id\":"
   ]
  },
  {
   "cell_type": "markdown",
   "id": "550e6568",
   "metadata": {},
   "source": [
    "Archivos - Esta URL sirve como fuente para los enlaces de archivos y documentos presentes en el sitio web.\n",
    "\n",
    "52.\thttps://webagnapi.agn.gob.ar/api/file/file\n",
    "\n",
    "Esta dirección está vinculada con la URL de informes a través del componente relationships bajo la clave \"drupal_internal__fid\".\n",
    "\n",
    "Estructura JSON, destaca el componente \"attributes\":"
   ]
  },
  {
   "cell_type": "code",
   "execution_count": null,
   "id": "cd59e62c",
   "metadata": {},
   "outputs": [],
   "source": [
    "\"data\": [\n",
    "    \"attributes\": {\n",
    "        \"drupal_internal__fid\":\n",
    "        \"filename\":\n",
    "        \"uri\": {\n",
    "            \"url\":"
   ]
  },
  {
   "cell_type": "markdown",
   "id": "940e92ac",
   "metadata": {},
   "source": [
    "Descripción de Filtros - Las siguientes URLs contienen categorías descriptivas que se utilizan como filtros en el sitio web de AGN:\n",
    "\n",
    "53.\thttps://webagnapi.agn.gob.ar/api/taxonomy_term/jurisdiccion\n",
    "\n",
    "55.\thttps://webagnapi.agn.gob.ar/api/taxonomy_term/ods\n",
    "\n",
    "56.\thttps://webagnapi.agn.gob.ar/api/taxonomy_term/organismo_auditado\n",
    "\n",
    "57.\thttps://webagnapi.agn.gob.ar/api/taxonomy_term/sector_publico_nacional\n",
    "\n",
    "58.\thttps://webagnapi.agn.gob.ar/api/taxonomy_term/tags\n",
    "\n",
    "59.\thttps://webagnapi.agn.gob.ar/api/taxonomy_term/tipo_de_auditoria\n",
    "\n",
    "54.\thttps://webagnapi.agn.gob.ar/api/taxonomy_term/objeto_de_auditoria\n",
    "\n",
    "\n",
    "Todas estas URLs presentan una estructura JSON similar, con una variación en el componente \"attributes\", que puede contener \"name\" o \"nombre\" como clave descriptiva. Además, están interconectadas con la URL de informes mediante el componente relationships a través del identificador \"drupal_internal__tid\".\n",
    "\n",
    "Estructura JSON:\n"
   ]
  },
  {
   "cell_type": "code",
   "execution_count": null,
   "id": "82897fb6",
   "metadata": {},
   "outputs": [],
   "source": [
    "\"data\": [\n",
    "    \"type\":\n",
    "    \"attributes\": {\n",
    "        \"drupal_internal__tid\":\n",
    "        \"name\" o \"nombre\":"
   ]
  },
  {
   "cell_type": "markdown",
   "id": "3c00de4a",
   "metadata": {},
   "source": [
    "Infografías - La URL proporcionada alberga información adicional y archivos asociados a los informes.\n",
    "\n",
    "51.\thttps://webagnapi.agn.gob.ar/api/node/infografias\n",
    "\n",
    "La estructura JSON de esta dirección se compone de dos componentes principales: \"attributes\" y \"relationships\". Está vinculada a la URL de informes a través del identificador \"drupal_internal__nid\" en el componente \"attributes\". Además, se relaciona con la URL de archivos mediante el identificador \"drupal_internal__target_id\" en el componente \"relationships\".\n",
    "\n",
    "Estructura JSON destacada:"
   ]
  },
  {
   "cell_type": "code",
   "execution_count": null,
   "id": "aa8d2ed7",
   "metadata": {},
   "outputs": [],
   "source": [
    "\"data\": [\n",
    "    \"attributes\": {\n",
    "        \"drupal_internal__nid\":\n",
    "        \"title\":\n",
    "    \"relationships\": {\n",
    "        \"field_imagen\":\n",
    "            \"data\": [\n",
    "                \"meta\": {\n",
    "                    \"alt\":\n",
    "                    \"drupal_internal__target_id\":"
   ]
  }
 ],
 "metadata": {
  "kernelspec": {
   "display_name": "Python 3 (ipykernel)",
   "language": "python",
   "name": "python3"
  },
  "language_info": {
   "codemirror_mode": {
    "name": "ipython",
    "version": 3
   },
   "file_extension": ".py",
   "mimetype": "text/x-python",
   "name": "python",
   "nbconvert_exporter": "python",
   "pygments_lexer": "ipython3",
   "version": "3.10.9"
  }
 },
 "nbformat": 4,
 "nbformat_minor": 5
}
